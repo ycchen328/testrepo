{
 "cells": [
  {
   "cell_type": "markdown",
   "id": "0718dc75-406b-4bf6-bb63-ff360c1eed99",
   "metadata": {},
   "source": [
    "# \"My Jupyter Notebook on IBM Watson Studio\""
   ]
  },
  {
   "cell_type": "markdown",
   "id": "7865bf87-8209-444b-8847-bb8e72979779",
   "metadata": {
    "tags": []
   },
   "source": [
    "## Sandy Chen \n",
    "### Student"
   ]
  },
  {
   "cell_type": "markdown",
   "id": "3350fc78-117b-49a6-917e-c15bcfc7daf3",
   "metadata": {},
   "source": [
    "I am interested in data science because I love to learn new skills, and data science makes me wanna try my best."
   ]
  },
  {
   "cell_type": "markdown",
   "id": "bf5e0d81-b009-45cd-b473-d08ab451afb7",
   "metadata": {},
   "source": [
    "__The following code testes the mean formula__"
   ]
  },
  {
   "cell_type": "code",
   "execution_count": 9,
   "id": "97117616-67d2-4091-90ea-5f0cbc20d838",
   "metadata": {},
   "outputs": [
    {
     "name": "stdout",
     "output_type": "stream",
     "text": [
      "The mean or average of all these numbers ( [2, 3, 5, 7, 8] ) is 5.0\n"
     ]
    }
   ],
   "source": [
    "numb = [2, 3, 5, 7, 8]\n",
    "no = len(numb)\n",
    "summ = sum(numb)\n",
    "mean = summ / no\n",
    "print(\"The mean or average of all these numbers (\", numb, \") is\", str(mean))"
   ]
  },
  {
   "cell_type": "markdown",
   "id": "12c57837-80c4-4ff1-8cd8-d076752aa384",
   "metadata": {},
   "source": [
    "- This is bulleted list \n",
    "    - This is a sub bullet"
   ]
  },
  {
   "cell_type": "markdown",
   "id": "b4911f8c-f017-4fb7-bb8e-5c1b7b7dc582",
   "metadata": {},
   "source": [
    "<font color=red> Data science </font> is the word that I am highlighting "
   ]
  },
  {
   "cell_type": "markdown",
   "id": "b4a65f74-444f-4c00-a2cc-4ccd8be7714f",
   "metadata": {},
   "source": [
    "[Click here to IBM](https://www.ibm.com/tw-zh)"
   ]
  },
  {
   "cell_type": "code",
   "execution_count": null,
   "id": "2d723a06-5f56-48d2-9309-b8e80203750f",
   "metadata": {},
   "outputs": [],
   "source": []
  }
 ],
 "metadata": {
  "kernelspec": {
   "display_name": "Python",
   "language": "python",
   "name": "conda-env-python-py"
  },
  "language_info": {
   "codemirror_mode": {
    "name": "ipython",
    "version": 3
   },
   "file_extension": ".py",
   "mimetype": "text/x-python",
   "name": "python",
   "nbconvert_exporter": "python",
   "pygments_lexer": "ipython3",
   "version": "3.7.12"
  }
 },
 "nbformat": 4,
 "nbformat_minor": 5
}
